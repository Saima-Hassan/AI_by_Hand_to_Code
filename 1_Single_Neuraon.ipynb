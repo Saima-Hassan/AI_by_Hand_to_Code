{
 "cells": [
  {
   "cell_type": "code",
   "execution_count": 15,
   "metadata": {},
   "outputs": [
    {
     "name": "stdout",
     "output_type": "stream",
     "text": [
      "Output of the 4 neurons: [[0]\n",
      " [3]\n",
      " [5]\n",
      " [3]]\n"
     ]
    }
   ],
   "source": [
    "import numpy as np\n",
    "\n",
    "# Input values\n",
    "x =np.array([[2], [1], [3]])  # Input vector\n",
    "\n",
    "# Weight matrix for 4 neurons (each row represents the weights for a neuron)\n",
    "w = np.array([[1, -1, 1], \n",
    "              [1, 1, 0], \n",
    "              [0, 1, 1], \n",
    "              [1, 0, 1]])\n",
    "\n",
    "# Bias vector for 4 neurons\n",
    "b = np.array([[-5], [0], [1], [-2]])  # Bias vector\n",
    "\n",
    "# ReLU activation function\n",
    "def relu(x):\n",
    "    return np.maximum(0, x)\n",
    "\n",
    "# Linear combination for all neurons (dot product + bias)\n",
    "z = np.dot(w, x) + b\n",
    "\n",
    "# Apply ReLU activation function\n",
    "outputs = relu(z)\n",
    "\n",
    "# Print the output for all neurons\n",
    "print(f\"Output of the 4 neurons: {outputs}\")\n",
    "\n"
   ]
  }
 ],
 "metadata": {
  "kernelspec": {
   "display_name": "Python 3",
   "language": "python",
   "name": "python3"
  },
  "language_info": {
   "codemirror_mode": {
    "name": "ipython",
    "version": 3
   },
   "file_extension": ".py",
   "mimetype": "text/x-python",
   "name": "python",
   "nbconvert_exporter": "python",
   "pygments_lexer": "ipython3",
   "version": "3.12.4"
  }
 },
 "nbformat": 4,
 "nbformat_minor": 2
}
